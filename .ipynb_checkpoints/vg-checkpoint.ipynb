{
 "cells": [
  {
   "cell_type": "code",
   "execution_count": null,
   "id": "0cd0b344",
   "metadata": {},
   "outputs": [],
   "source": [
    "# Importare le librerie necessarie\n",
    "import pandas as pd\n",
    "import os\n",
    "from sklearn.model_selection import train_test_split\n",
    "from sklearn.feature_extraction.text import TfidfVectorizer\n",
    "from sklearn.preprocessing import LabelEncoder\n",
    "from sklearn.ensemble import RandomForestClassifier\n",
    "from sklearn.metrics import classification_report, accuracy_score\n",
    "\n",
    "# 1. Caricare i dati\n",
    "file_path = '/home/ec2-user/SageMaker/2023-25.ML.UFS14_Flavio/EsercizioTraining/vgsales.csv'\n",
    "df = pd.read_csv(file_path, encoding= 'latin1')\n",
    "\n",
    "# Visualizzare le prime righe per verificare il caricamento corretto\n",
    "print(df.head())"
   ]
  },
  {
   "cell_type": "code",
   "execution_count": null,
   "id": "5f167509",
   "metadata": {},
   "outputs": [],
   "source": [
    "\n",
    "# 2. Pre-processing\n",
    "# Selezionare solo le colonne rilevanti per l'analisi\n",
    "df = df[['type', 'release_year', 'rating', 'duration', 'listed_in', 'description']]\n",
    "\n",
    "# Rimuovere righe con valori nulli nelle colonne critiche\n",
    "df = df.dropna(subset=['description', 'listed_in', 'rating', 'duration'])\n",
    "\n",
    "# Codificare la variabile target `listed_in` (il genere) per trasformarla in numeri\n",
    "# Nota: qui `listed_in` può contenere più generi, quindi estrarremo solo il primo genere per semplicità\n",
    "df['genre'] = df['listed_in'].apply(lambda x: x.split(',')[0].strip())\n"
   ]
  },
  {
   "cell_type": "code",
   "execution_count": null,
   "id": "550e64ef",
   "metadata": {},
   "outputs": [],
   "source": [
    "# Convertire il testo in numeri usando TfidfVectorizer per la colonna 'description'\n",
    "vectorizer = TfidfVectorizer(max_features=3000, stop_words='english')\n",
    "description_matrix = vectorizer.fit_transform(df['description'])\n",
    "\n",
    "# Codificare le variabili categoriche come 'type' e 'rating'\n",
    "df['type_encoded'] = LabelEncoder().fit_transform(df['type'])\n",
    "df['rating_encoded'] = LabelEncoder().fit_transform(df['rating'])\n",
    "\n",
    "# Processare la durata come numerica (estraendo il numero di minuti o stagioni)\n",
    "df['duration_numeric'] = df['duration'].str.extract('(\\d+)').astype(float)"
   ]
  },
  {
   "cell_type": "code",
   "execution_count": null,
   "id": "3309a582",
   "metadata": {},
   "outputs": [],
   "source": [
    "# Combinare tutte le caratteristiche\n",
    "import numpy as np\n",
    "X = np.hstack((description_matrix.toarray(), df[['type_encoded', 'rating_encoded', 'release_year', 'duration_numeric']].values))\n",
    "\n",
    "# Variabile target\n",
    "y = df['genre']\n",
    "\n",
    "# 3. Suddivisione in train e test set\n",
    "X_train, X_test, y_train, y_test = train_test_split(X, y, test_size=0.2, random_state=42)\n",
    "\n",
    "# 4. Addestramento del modello\n",
    "model = RandomForestClassifier(n_estimators=100, random_state=42)\n",
    "model.fit(X_train, y_train)"
   ]
  },
  {
   "cell_type": "code",
   "execution_count": null,
   "id": "67716f4b",
   "metadata": {},
   "outputs": [],
   "source": [
    "# 5. Valutazione del modello\n",
    "y_pred = model.predict(X_test)\n",
    "print(\"Accuracy:\", accuracy_score(y_test, y_pred))\n",
    "print(classification_report(y_test, y_pred))\n"
   ]
  },
  {
   "cell_type": "code",
   "execution_count": null,
   "id": "636bee77",
   "metadata": {},
   "outputs": [],
   "source": []
  }
 ],
 "metadata": {
  "kernelspec": {
   "display_name": "conda_python3",
   "language": "python",
   "name": "conda_python3"
  },
  "language_info": {
   "codemirror_mode": {
    "name": "ipython",
    "version": 3
   },
   "file_extension": ".py",
   "mimetype": "text/x-python",
   "name": "python",
   "nbconvert_exporter": "python",
   "pygments_lexer": "ipython3",
   "version": "3.10.15"
  }
 },
 "nbformat": 4,
 "nbformat_minor": 5
}
