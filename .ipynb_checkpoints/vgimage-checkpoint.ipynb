{
 "cells": [
  {
   "cell_type": "code",
   "execution_count": null,
   "id": "bf35e789",
   "metadata": {},
   "outputs": [],
   "source": [
    "import scipy.sparse\n",
    "from sagemaker import image_uris\n",
    "image_uris.retrieve(framework='tensorflow',region='us-east-1',version='1.12.0',image_scope='inference',instance_type='ml.c5.4xlarge')"
   ]
  },
  {
   "cell_type": "code",
   "execution_count": null,
   "id": "9caefcf7",
   "metadata": {},
   "outputs": [],
   "source": [
    "!aws ecr get-login-password --region us-east-1 | docker login --username AWS --password-stdin 520713654638.dkr.ecr.us-east-1.amazonaws.com"
   ]
  },
  {
   "cell_type": "code",
   "execution_count": null,
   "id": "659d5737",
   "metadata": {},
   "outputs": [],
   "source": [
    "!docker pull 520713654638.dkr.ecr.us-east-1.amazonaws.com/sagemaker-tensorflow-serving:1.12.0-cpu"
   ]
  },
  {
   "cell_type": "code",
   "execution_count": null,
   "id": "46735eaf",
   "metadata": {},
   "outputs": [],
   "source": [
    "import scipy.sparse\n",
    "from sagemaker import image_uris\n",
    "image_uris.retrieve(framework='tensorflow',region='us-east-1',version='2.12.0',image_scope='training',instance_type='ml.c5.4xlarge')"
   ]
  },
  {
   "cell_type": "code",
   "execution_count": null,
   "id": "e4f20f7f",
   "metadata": {},
   "outputs": [],
   "source": [
    "!aws ecr get-login-password --region us-east-1 | docker login --username AWS --password-stdin 763104351884.dkr.ecr.us-east-1.amazonaws.com"
   ]
  },
  {
   "cell_type": "code",
   "execution_count": null,
   "id": "8b1f185b",
   "metadata": {},
   "outputs": [],
   "source": [
    "!docker build -t tensorflow-training:2.12.0-cpu-py310-vg -f Dockerfile.train ."
   ]
  },
  {
   "cell_type": "code",
   "execution_count": null,
   "id": "1467492f",
   "metadata": {},
   "outputs": [],
   "source": [
    "!docker images"
   ]
  },
  {
   "cell_type": "code",
   "execution_count": null,
   "id": "d4b1effd",
   "metadata": {},
   "outputs": [],
   "source": [
    "from sagemaker import get_execution_role\n",
    "from sagemaker.estimator import Estimator\n",
    "\n",
    "# Ruolo SageMaker\n",
    "role = get_execution_role()\n",
    "\n",
    "# Parametri del modello\n",
    "hyperparameters = {'epochs': 10}\n",
    "\n",
    "# Configurazione dell'estimator\n",
    "estimator = Estimator(\n",
    "    image_uri='763104351884.dkr.ecr.us-east-1.amazonaws.com/tensorflow-training:2.12.0-cpu-py310',\n",
    "    role=role,\n",
    "    instance_count=1,\n",
    "    instance_type='ml.m5.large',\n",
    "    hyperparameters=hyperparameters,\n",
    "    output_path='s3://cestino235/output'\n",
    ")\n",
    "\n",
    "# Avvio del training\n",
    "print('##### INIZIO TRAINING #####')\n",
    "estimator.fit('s3://cestino235/input/vgsales.csv')\n",
    "print('##### TRAINING COMPLETATO #####')\n"
   ]
  },
  {
   "cell_type": "code",
   "execution_count": null,
   "id": "900511e2",
   "metadata": {},
   "outputs": [],
   "source": [
    "from sagemaker.tensorflow import TensorFlow\n",
    "from sagemaker import get_execution_role\n",
    "\n",
    "role = get_execution_role()\n",
    "\n",
    "estimator = TensorFlow(\n",
    "    entry_point='vg.py',  # Nome del file principale\n",
    "    role=role,\n",
    "    instance_count=1,\n",
    "    instance_type='ml.m5.large',\n",
    "    framework_version='2.12.0',\n",
    "    py_version='py310',\n",
    "    output_path='s3://cestino235/output',\n",
    "    environment={\n",
    "        'S3_BUCKET_NAME': 'cestino235',\n",
    "        'S3_FILE_KEY': 'input/vgsales.csv'\n",
    "    }\n",
    ")\n",
    "\n",
    "# Avvio del training\n",
    "estimator.fit()\n"
   ]
  },
  {
   "cell_type": "code",
   "execution_count": null,
   "id": "fa22e6eb",
   "metadata": {},
   "outputs": [],
   "source": [
    "!tar -xzf data/output/output.tar.gz"
   ]
  },
  {
   "cell_type": "code",
   "execution_count": null,
   "id": "5eeb9787",
   "metadata": {},
   "outputs": [],
   "source": [
    "!tar -xzf ./data/output/model.tar.gz"
   ]
  },
  {
   "cell_type": "code",
   "execution_count": null,
   "id": "931aa764",
   "metadata": {},
   "outputs": [],
   "source": [
    "%%sh\n",
    "# Nome dell'immagine Docker\n",
    "image_name=\"tensorflow-training\"\n",
    "echo \"image_name: ${image_name} ######################\"\n",
    "\n",
    "# Account AWS corrente\n",
    "account=$(aws sts get-caller-identity --query Account --output text)\n",
    "echo \"account: ${account} ######################\"\n",
    "\n",
    "# Regione configurata nel profilo AWS attivo\n",
    "region=$(aws configure get region)\n",
    "if [ -z \"$region\" ]; then\n",
    "  region=\"us-west-2\"  # Regione di default se non specificata\n",
    "fi\n",
    "echo \"region: ${region} ######################\"\n",
    "\n",
    "# URI completo dell'immagine Docker su ECR\n",
    "fullname=\"${account}.dkr.ecr.${region}.amazonaws.com/${image_name}:2.12.0-cpu-py310-vg\"\n",
    "echo \"fullname: ${fullname} ######################\"\n",
    "\n",
    "# Creazione del repository ECR (ignora errore se già esistente)\n",
    "aws ecr create-repository --repository-name \"${image_name}\" || echo \"Repository ${image_name} già esistente\"\n",
    "\n",
    "# Login a ECR\n",
    "aws ecr get-login-password --region \"${region}\" | docker login --username AWS --password-stdin \"${account}.dkr.ecr.${region}.amazonaws.com\"\n",
    "\n",
    "# Tag dell'immagine Docker con l'URI completo\n",
    "docker tag \"${image_name}:2.12.0-cpu-py310-vg\" \"${fullname}\"\n",
    "\n",
    "# Push dell'immagine su ECR\n",
    "docker push \"${fullname}\"\n"
   ]
  },
  {
   "cell_type": "code",
   "execution_count": null,
   "id": "5dd6b202",
   "metadata": {
    "scrolled": true
   },
   "outputs": [],
   "source": [
    "!aws ecr get-login-password --region us-east-1 | docker login --username AWS --password-stdin 737368952498.dkr.ecr.us-east-1.amazonaws.com"
   ]
  },
  {
   "cell_type": "code",
   "execution_count": null,
   "id": "105f9482",
   "metadata": {},
   "outputs": [],
   "source": [
    "!docker tag tensorflow-training:2.12.0-cpu-py310-vg 339713156346.dkr.ecr.us-east-1.amazonaws.com/tensorflow-training:2.12.0-cpu-py310-vg"
   ]
  },
  {
   "cell_type": "code",
   "execution_count": null,
   "id": "74f27402",
   "metadata": {},
   "outputs": [],
   "source": [
    "!docker push 339713156346.dkr.ecr.us-east-1.amazonaws.com/tensorflow-training:2.12.0-cpu-py310-vg"
   ]
  },
  {
   "cell_type": "code",
   "execution_count": null,
   "id": "9c68c7d7",
   "metadata": {},
   "outputs": [],
   "source": [
    "!docker ps"
   ]
  },
  {
   "cell_type": "code",
   "execution_count": null,
   "id": "86b3f884",
   "metadata": {},
   "outputs": [],
   "source": [
    "file_path = '{}/vgsales.csv'.format(os.getcwd())\n",
    "print(os.path.exists(file_path))\n"
   ]
  },
  {
   "cell_type": "code",
   "execution_count": 40,
   "id": "0e2bd595",
   "metadata": {},
   "outputs": [
    {
     "name": "stdout",
     "output_type": "stream",
     "text": [
      "arn:aws:iam::339713156346:role/c133245a3375001l7613515t1w33-SageMakerExecutionRole-5pe7px6BaF26\n"
     ]
    }
   ],
   "source": [
    "role = get_execution_role()\n",
    "print(role)"
   ]
  },
  {
   "cell_type": "code",
   "execution_count": null,
   "id": "80c8d6d3",
   "metadata": {},
   "outputs": [],
   "source": [
    "import os\n",
    "\n",
    "# Directory corrente\n",
    "current_dir = os.getcwd()\n",
    "print(f\"Current directory: {current_dir}\")\n",
    "\n",
    "# Verifica del file\n",
    "file_path = os.path.join(current_dir, \"vgsales.csv\")\n",
    "print(f\"File path: {file_path}\")\n",
    "print(f\"File exists: {os.path.exists(file_path)}\")\n",
    "\n",
    "# Contenuto della directory\n",
    "print(\"Contents of the current directory:\")\n",
    "print(os.listdir(current_dir))\n"
   ]
  },
  {
   "cell_type": "code",
   "execution_count": null,
   "id": "70bc9bce",
   "metadata": {},
   "outputs": [],
   "source": [
    "!ls -l /home/ec2-user/SageMaker/AWSrepo/vgsales.csv\n"
   ]
  },
  {
   "cell_type": "code",
   "execution_count": 43,
   "id": "e3e90a04",
   "metadata": {},
   "outputs": [
    {
     "name": "stdout",
     "output_type": "stream",
     "text": [
      "Il file input/vgsales.csv esiste nel bucket cestino235.\n",
      "Metadati del file: {'ResponseMetadata': {'RequestId': '2FBFXX7VWH0F3H7S', 'HostId': '2NhTd/I1ByUJEfSmBxhQD/y04CndrOFQTUW7DSlJU/1LW+pcHlBwM7Zkc1dt7RjrcTHy7E1g0Cc=', 'HTTPStatusCode': 200, 'HTTPHeaders': {'x-amz-id-2': '2NhTd/I1ByUJEfSmBxhQD/y04CndrOFQTUW7DSlJU/1LW+pcHlBwM7Zkc1dt7RjrcTHy7E1g0Cc=', 'x-amz-request-id': '2FBFXX7VWH0F3H7S', 'date': 'Fri, 22 Nov 2024 13:48:25 GMT', 'last-modified': 'Fri, 22 Nov 2024 13:13:31 GMT', 'etag': '\"67fa6f5efdc100db4586aa80556e8620\"', 'x-amz-server-side-encryption': 'AES256', 'accept-ranges': 'bytes', 'content-type': 'text/csv', 'content-length': '1355781', 'server': 'AmazonS3'}, 'RetryAttempts': 0}, 'AcceptRanges': 'bytes', 'LastModified': datetime.datetime(2024, 11, 22, 13, 13, 31, tzinfo=tzutc()), 'ContentLength': 1355781, 'ETag': '\"67fa6f5efdc100db4586aa80556e8620\"', 'ContentType': 'text/csv', 'ServerSideEncryption': 'AES256', 'Metadata': {}}\n"
     ]
    }
   ],
   "source": [
    "import boto3\n",
    "import os\n",
    "\n",
    "# Specifica il bucket S3 e il percorso del file\n",
    "bucket_name = \"cestino235\"\n",
    "file_key = \"input/vgsales.csv\"\n",
    "\n",
    "# Crea un client S3\n",
    "s3 = boto3.client('s3')\n",
    "\n",
    "try:\n",
    "    # Verifica se il file esiste\n",
    "    response = s3.head_object(Bucket=bucket_name, Key=file_key)\n",
    "    print(f\"Il file {file_key} esiste nel bucket {bucket_name}.\")\n",
    "    print(\"Metadati del file:\", response)\n",
    "except s3.exceptions.NoSuchKey:\n",
    "    print(f\"Il file {file_key} non esiste nel bucket {bucket_name}.\")\n",
    "except s3.exceptions.ClientError as e:\n",
    "    # Errore generico - problemi di permessi o altro\n",
    "    error_code = e.response['Error']['Code']\n",
    "    if error_code == '403':\n",
    "        print(f\"Accesso negato al file {file_key}. Verifica i permessi IAM.\")\n",
    "    elif error_code == '404':\n",
    "        print(f\"Il file {file_key} non è stato trovato nel bucket {bucket_name}.\")\n",
    "    else:\n",
    "        print(f\"Errore sconosciuto: {e}\")\n"
   ]
  },
  {
   "cell_type": "code",
   "execution_count": null,
   "id": "947ace7f",
   "metadata": {},
   "outputs": [],
   "source": []
  }
 ],
 "metadata": {
  "kernelspec": {
   "display_name": "conda_python3",
   "language": "python",
   "name": "conda_python3"
  },
  "language_info": {
   "codemirror_mode": {
    "name": "ipython",
    "version": 3
   },
   "file_extension": ".py",
   "mimetype": "text/x-python",
   "name": "python",
   "nbconvert_exporter": "python",
   "pygments_lexer": "ipython3",
   "version": "3.10.15"
  }
 },
 "nbformat": 4,
 "nbformat_minor": 5
}
